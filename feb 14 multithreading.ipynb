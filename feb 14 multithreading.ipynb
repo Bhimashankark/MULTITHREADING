{
 "cells": [
  {
   "cell_type": "markdown",
   "id": "2834e57c-0dcd-4e3d-940b-b71495ae7f41",
   "metadata": {},
   "source": [
    "Q1. What is multithreading in python? Why is it used? Name the module used to handle threads in python."
   ]
  },
  {
   "cell_type": "markdown",
   "id": "2629462b-d526-4442-9881-c7cd36fbcbe9",
   "metadata": {},
   "source": [
    "Answer : Multithreading in Python refers to the ability of a program to have multiple threads of execution running concurrently within a single process. Each thread runs independently of the others, and can execute different parts of the program simultaneously.\n",
    "\n",
    "Multithreading is used in Python to improve the performance of programs that can be broken down into smaller, independent parts. By running these parts in parallel, overall execution time can be reduced, resulting in faster program execution.\n",
    "\n",
    "The module used to handle threads in Python is called \"threading\". It provides a simple way to create and manage threads in a Python program. The \"threading\" module allows you to create new threads, start them, and wait for them to complete. It also provides features such as locks, semaphores, and condition variables to help you synchronize the execution of threads and prevent race conditions."
   ]
  },
  {
   "cell_type": "code",
   "execution_count": null,
   "id": "749b249b-d336-4bf4-aec7-5d67f384c39a",
   "metadata": {},
   "outputs": [],
   "source": []
  },
  {
   "cell_type": "markdown",
   "id": "68379b76-3adf-4a18-9c05-94cc48228a2f",
   "metadata": {},
   "source": [
    "Q2. Why threading module used? Write the use of the following functions\n",
    "activeCount()\n",
    "currentThread()\n",
    "enumerate()\n"
   ]
  },
  {
   "cell_type": "markdown",
   "id": "d2caf04a-bea0-4a5d-bcdf-eb1d7f26d1dc",
   "metadata": {},
   "source": [
    "answer : The threading module is used in Python to create, manage and control threads in a multi-threaded Python program. It provides an easy-to-use interface for creating threads, synchronizing their execution, and communicating between them.\n",
    "\n",
    "Here are the uses of the following functions in the threading module:\n",
    "\n",
    "activeCount(): This function is used to return the number of thread objects that are active in the current Python interpreter. An active thread is a thread that has been started but has not yet been joined.\n",
    "\n",
    "currentThread(): This function returns a reference to the current thread object. The current thread is the thread that is currently executing the Python code. You can use this function to obtain information about the current thread, such as its name, ID, and other attributes.\n",
    "\n",
    "enumerate(): This function returns a list of all thread objects that are currently active in the Python interpreter. The list includes both daemon and non-daemon threads. You can use this function to iterate over all active threads and obtain information about each thread, such as its name, ID, and other attributes. This function is particularly useful when you need to join all threads before the program exits."
   ]
  },
  {
   "cell_type": "code",
   "execution_count": null,
   "id": "0927cccf-ddb5-474b-97d2-553d18b36563",
   "metadata": {},
   "outputs": [],
   "source": []
  },
  {
   "cell_type": "code",
   "execution_count": null,
   "id": "22e69a05-3d5f-424a-a68a-54b0d438b9ca",
   "metadata": {},
   "outputs": [],
   "source": [
    "Q3. Explain the following functions\n",
    "run()\n",
    "start()\n",
    "join()\n",
    "isAlive()"
   ]
  },
  {
   "cell_type": "markdown",
   "id": "7d38fe8d-fdfc-44d6-a0e8-d246fa59d7ef",
   "metadata": {},
   "source": [
    "answer :\n",
    "run(): This method is called when a thread is started using the start() method. It represents the code that will be executed in the new thread. You should override this method in your own thread subclass to provide the actual thread behavior.\n",
    "\n",
    "start(): This method is used to start a new thread of execution in the program. It creates a new thread object, sets up the thread environment, and calls the run() method of the thread object to start the new thread. Once the thread has started, it will run in parallel with the main thread of the program.\n",
    "\n",
    "join(): This method is used to wait for a thread to complete its execution before continuing with the rest of the program. When called on a thread object, it blocks the calling thread until the target thread has finished running. You can also pass an optional timeout argument to the join() method to specify the maximum amount of time to wait for the thread to complete.\n",
    "\n",
    "isAlive(): This method is used to check whether a thread is currently running or not. When called on a thread object, it returns True if the thread is still executing, and False otherwise. This can be useful for checking the status of a thread from another thread or from the main program. Note that this method only provides a snapshot of the thread's status at the moment it is called, and the thread may have completed or been terminated by the time the method returns."
   ]
  },
  {
   "cell_type": "code",
   "execution_count": null,
   "id": "297c81fe-8ea7-4ebc-b77f-cd3f4191a3e2",
   "metadata": {},
   "outputs": [],
   "source": []
  },
  {
   "cell_type": "markdown",
   "id": "aab4d777-af6a-4334-9fb2-07f176f7d607",
   "metadata": {},
   "source": [
    "Q4. Write a python program to create two threads. Thread one must print the list of squares and thread\n",
    "two must print the list of cubes."
   ]
  },
  {
   "cell_type": "code",
   "execution_count": 1,
   "id": "be5a5d2e-e098-467e-97f7-770cdbed2691",
   "metadata": {},
   "outputs": [
    {
     "name": "stdout",
     "output_type": "stream",
     "text": [
      "1\n",
      "4\n",
      "9\n",
      "16\n",
      "25\n",
      "36\n",
      "49\n",
      "64\n",
      "81\n",
      "100\n",
      "1\n",
      "8\n",
      "27\n",
      "64\n",
      "125\n",
      "216\n",
      "343\n",
      "512\n",
      "729\n",
      "1000\n"
     ]
    }
   ],
   "source": [
    "#answer\n",
    "import threading\n",
    "\n",
    "def print_squares():\n",
    "    for i in range(1, 11):\n",
    "        print(i**2)\n",
    "\n",
    "def print_cubes():\n",
    "    for i in range(1, 11):\n",
    "        print(i**3)\n",
    "\n",
    "# Create the first thread to print squares\n",
    "thread1 = threading.Thread(target=print_squares)\n",
    "\n",
    "# Create the second thread to print cubes\n",
    "thread2 = threading.Thread(target=print_cubes)\n",
    "\n",
    "# Start both threads\n",
    "thread1.start()\n",
    "thread2.start()\n",
    "\n",
    "# Wait for both threads to complete before exiting\n",
    "thread1.join()\n",
    "thread2.join()\n"
   ]
  },
  {
   "cell_type": "code",
   "execution_count": null,
   "id": "9302a772-5d8f-42ef-97c8-66f8bc1e2b31",
   "metadata": {},
   "outputs": [],
   "source": []
  },
  {
   "cell_type": "markdown",
   "id": "f438065b-f1ef-4c6b-8a29-4acff228da9c",
   "metadata": {},
   "source": [
    "Q5. State advantages and disadvantages of multithreading.\n"
   ]
  },
  {
   "cell_type": "markdown",
   "id": "c10cc462-7a9e-45ea-b639-0d68df1d9355",
   "metadata": {},
   "source": [
    "answer : \n",
    "Advantages of Multithreading:\n",
    "\n",
    "Improved Performance: By running multiple threads in parallel, a program can perform several tasks at the same time, which can significantly improve its performance.\n",
    "\n",
    "Increased Responsiveness: Multithreading can help keep a program responsive by allowing user interface updates and other tasks to run concurrently with long-running tasks.\n",
    "\n",
    "Efficient Use of Resources: Multithreading can help maximize the use of system resources, such as CPU time and memory, by allowing multiple threads to share these resources.\n",
    "\n",
    "Simplified Programming: Multithreading can simplify programming by allowing you to break up complex tasks into smaller, more manageable parts, each of which can run in a separate thread."
   ]
  },
  {
   "cell_type": "markdown",
   "id": "11ced67e-3e08-4b9c-83d1-1fab21b81c61",
   "metadata": {},
   "source": [
    "Disadvantages of Multithreading:\n",
    "\n",
    "Increased Complexity: Multithreading can make a program more complex and harder to debug, especially when dealing with synchronization and concurrency issues.\n",
    "\n",
    "Synchronization Overhead: When multiple threads access shared resources, synchronization overhead can occur, which can reduce the overall performance of the program.\n",
    "\n",
    "Race Conditions: Multithreading can introduce race conditions, where the behavior of a program depends on the timing and order of thread execution, which can be difficult to detect and resolve.\n",
    "\n",
    "Deadlocks: Multithreading can also introduce deadlocks, where two or more threads are blocked waiting for each other to release resources, resulting in a program that is stuck and unresponsive."
   ]
  },
  {
   "cell_type": "code",
   "execution_count": null,
   "id": "bb5a559f-3e90-40d7-adc5-4c67992535c2",
   "metadata": {},
   "outputs": [],
   "source": []
  },
  {
   "cell_type": "markdown",
   "id": "72dc75b6-06f4-43e6-aa84-f4db8d10898e",
   "metadata": {},
   "source": [
    "Q6. Explain deadlocks and race conditions.\n"
   ]
  },
  {
   "cell_type": "markdown",
   "id": "b2610da1-cd41-4769-988c-8ae9c09bd608",
   "metadata": {},
   "source": [
    "answer : \n",
    "Deadlocks and race conditions are two common synchronization issues that can occur when using multithreading in a program.\n",
    "\n",
    "Deadlocks: A deadlock occurs when two or more threads are blocked and waiting for each other to release resources, resulting in a program that is stuck and unresponsive. This can happen when multiple threads are trying to access shared resources in a specific order, and each thread is holding a resource that the other thread needs to proceed. If the threads cannot acquire the resources they need, they will wait indefinitely, resulting in a deadlock.\n",
    "For example, consider two threads that need to access two resources, A and B, in the following order: Thread 1 needs to access resource A first, and then resource B, while Thread 2 needs to access resource B first, and then resource A. If Thread 1 acquires resource A and then waits for resource B, while Thread 2 acquires resource B and then waits for resource A, both threads will be blocked and waiting for each other, resulting in a deadlock.\n",
    "\n",
    "Race conditions: A race condition occurs when two or more threads access shared resources in an unpredictable order, resulting in a program that behaves unpredictably or incorrectly. This can happen when multiple threads try to modify the same resource at the same time, without proper synchronization or coordination.\n",
    "For example, consider two threads that need to increment a shared counter variable. If both threads read the current value of the counter, and then increment it, they may both end up writing the same value back to the counter, resulting in the counter being incremented only once instead of twice. This can happen if the two threads access the counter variable at the same time, without proper synchronization or coordination.\n",
    "\n",
    "To prevent deadlocks and race conditions, it is important to properly synchronize access to shared resources using locks, semaphores, or other synchronization mechanisms."
   ]
  }
 ],
 "metadata": {
  "kernelspec": {
   "display_name": "Python 3 (ipykernel)",
   "language": "python",
   "name": "python3"
  },
  "language_info": {
   "codemirror_mode": {
    "name": "ipython",
    "version": 3
   },
   "file_extension": ".py",
   "mimetype": "text/x-python",
   "name": "python",
   "nbconvert_exporter": "python",
   "pygments_lexer": "ipython3",
   "version": "3.10.8"
  }
 },
 "nbformat": 4,
 "nbformat_minor": 5
}
